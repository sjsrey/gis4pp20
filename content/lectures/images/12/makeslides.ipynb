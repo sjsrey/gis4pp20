{
 "cells": [
  {
   "cell_type": "code",
   "execution_count": 20,
   "metadata": {},
   "outputs": [],
   "source": [
    "import glob"
   ]
  },
  {
   "cell_type": "code",
   "execution_count": 21,
   "metadata": {},
   "outputs": [],
   "source": [
    "images = glob.glob(\"*.png\")"
   ]
  },
  {
   "cell_type": "code",
   "execution_count": 22,
   "metadata": {},
   "outputs": [
    {
     "data": {
      "text/plain": [
       "['136_uber.png',\n",
       " '310_osm_plugin.png',\n",
       " '220_hot.png',\n",
       " '320_osm_icons.png',\n",
       " '412_points_in_poly.png',\n",
       " '120_anselin.png',\n",
       " '330_riverside_tracts.png',\n",
       " '119_anselin.png',\n",
       " '138_sidewalk.png',\n",
       " '139_sidewalk.png',\n",
       " '341_z_table.png',\n",
       " '340_osm_menu.png',\n",
       " '140_digital_exhaust.png',\n",
       " '200_osm.png',\n",
       " '201_osm.png',\n",
       " '210_signup.png',\n",
       " '360_voronoi_100.png',\n",
       " '123_anselin.png',\n",
       " '342_result.png',\n",
       " '010_vgi_portal.png',\n",
       " '400_random_points.png',\n",
       " '219_hot.png',\n",
       " '341_query.png',\n",
       " '414_service_pop_estimation.png',\n",
       " '124_rey.png',\n",
       " '341_zz_guidance.png',\n",
       " '300_plugin_menu.png',\n",
       " '110_plos_bird.png',\n",
       " '413_results.png',\n",
       " '221_hot.png',\n",
       " '121_anselin.png',\n",
       " '125_rey.png',\n",
       " '350_voronoi_default.png',\n",
       " '410_random_slow.png',\n",
       " '362_voronoi_zoom.png',\n",
       " '416_center.png',\n",
       " '210_osm_traces.png',\n",
       " '343_table.png',\n",
       " '137_sidewalk.png',\n",
       " '415_largest_two.png',\n",
       " '411_random_points.png',\n",
       " '361_voronoi_100.png',\n",
       " '210_osm_diary.png',\n",
       " '130_smart_cities.png',\n",
       " '351_voronoi_generator.png',\n",
       " '135_esri.png',\n",
       " '126_rey.png',\n",
       " '100_ebird.png']"
      ]
     },
     "execution_count": 22,
     "metadata": {},
     "output_type": "execute_result"
    }
   ],
   "source": [
    "images"
   ]
  },
  {
   "cell_type": "code",
   "execution_count": 23,
   "metadata": {},
   "outputs": [],
   "source": [
    "images.sort()"
   ]
  },
  {
   "cell_type": "code",
   "execution_count": 24,
   "metadata": {},
   "outputs": [
    {
     "data": {
      "text/plain": [
       "['010_vgi_portal.png',\n",
       " '100_ebird.png',\n",
       " '110_plos_bird.png',\n",
       " '119_anselin.png',\n",
       " '120_anselin.png',\n",
       " '121_anselin.png',\n",
       " '123_anselin.png',\n",
       " '124_rey.png',\n",
       " '125_rey.png',\n",
       " '126_rey.png',\n",
       " '130_smart_cities.png',\n",
       " '135_esri.png',\n",
       " '136_uber.png',\n",
       " '137_sidewalk.png',\n",
       " '138_sidewalk.png',\n",
       " '139_sidewalk.png',\n",
       " '140_digital_exhaust.png',\n",
       " '200_osm.png',\n",
       " '201_osm.png',\n",
       " '210_osm_diary.png',\n",
       " '210_osm_traces.png',\n",
       " '210_signup.png',\n",
       " '219_hot.png',\n",
       " '220_hot.png',\n",
       " '221_hot.png',\n",
       " '300_plugin_menu.png',\n",
       " '310_osm_plugin.png',\n",
       " '320_osm_icons.png',\n",
       " '330_riverside_tracts.png',\n",
       " '340_osm_menu.png',\n",
       " '341_query.png',\n",
       " '341_z_table.png',\n",
       " '341_zz_guidance.png',\n",
       " '342_result.png',\n",
       " '343_table.png',\n",
       " '350_voronoi_default.png',\n",
       " '351_voronoi_generator.png',\n",
       " '360_voronoi_100.png',\n",
       " '361_voronoi_100.png',\n",
       " '362_voronoi_zoom.png',\n",
       " '400_random_points.png',\n",
       " '410_random_slow.png',\n",
       " '411_random_points.png',\n",
       " '412_points_in_poly.png',\n",
       " '413_results.png',\n",
       " '414_service_pop_estimation.png',\n",
       " '415_largest_two.png',\n",
       " '416_center.png']"
      ]
     },
     "execution_count": 24,
     "metadata": {},
     "output_type": "execute_result"
    }
   ],
   "source": [
    "images"
   ]
  },
  {
   "cell_type": "code",
   "execution_count": 25,
   "metadata": {},
   "outputs": [
    {
     "name": "stdout",
     "output_type": "stream",
     "text": [
      "## {data-background=../content/lectures/images/12/010_vgi_portal.png data-background-size=contain}\n",
      "## {data-background=../content/lectures/images/12/100_ebird.png data-background-size=contain}\n",
      "## {data-background=../content/lectures/images/12/110_plos_bird.png data-background-size=contain}\n",
      "## {data-background=../content/lectures/images/12/119_anselin.png data-background-size=contain}\n",
      "## {data-background=../content/lectures/images/12/120_anselin.png data-background-size=contain}\n",
      "## {data-background=../content/lectures/images/12/121_anselin.png data-background-size=contain}\n",
      "## {data-background=../content/lectures/images/12/123_anselin.png data-background-size=contain}\n",
      "## {data-background=../content/lectures/images/12/124_rey.png data-background-size=contain}\n",
      "## {data-background=../content/lectures/images/12/125_rey.png data-background-size=contain}\n",
      "## {data-background=../content/lectures/images/12/126_rey.png data-background-size=contain}\n",
      "## {data-background=../content/lectures/images/12/130_smart_cities.png data-background-size=contain}\n",
      "## {data-background=../content/lectures/images/12/135_esri.png data-background-size=contain}\n",
      "## {data-background=../content/lectures/images/12/136_uber.png data-background-size=contain}\n",
      "## {data-background=../content/lectures/images/12/137_sidewalk.png data-background-size=contain}\n",
      "## {data-background=../content/lectures/images/12/138_sidewalk.png data-background-size=contain}\n",
      "## {data-background=../content/lectures/images/12/139_sidewalk.png data-background-size=contain}\n",
      "## {data-background=../content/lectures/images/12/140_digital_exhaust.png data-background-size=contain}\n",
      "## {data-background=../content/lectures/images/12/200_osm.png data-background-size=contain}\n",
      "## {data-background=../content/lectures/images/12/201_osm.png data-background-size=contain}\n",
      "## {data-background=../content/lectures/images/12/210_osm_diary.png data-background-size=contain}\n",
      "## {data-background=../content/lectures/images/12/210_osm_traces.png data-background-size=contain}\n",
      "## {data-background=../content/lectures/images/12/210_signup.png data-background-size=contain}\n",
      "## {data-background=../content/lectures/images/12/219_hot.png data-background-size=contain}\n",
      "## {data-background=../content/lectures/images/12/220_hot.png data-background-size=contain}\n",
      "## {data-background=../content/lectures/images/12/221_hot.png data-background-size=contain}\n",
      "## {data-background=../content/lectures/images/12/300_plugin_menu.png data-background-size=contain}\n",
      "## {data-background=../content/lectures/images/12/310_osm_plugin.png data-background-size=contain}\n",
      "## {data-background=../content/lectures/images/12/320_osm_icons.png data-background-size=contain}\n",
      "## {data-background=../content/lectures/images/12/330_riverside_tracts.png data-background-size=contain}\n",
      "## {data-background=../content/lectures/images/12/340_osm_menu.png data-background-size=contain}\n",
      "## {data-background=../content/lectures/images/12/341_query.png data-background-size=contain}\n",
      "## {data-background=../content/lectures/images/12/341_z_table.png data-background-size=contain}\n",
      "## {data-background=../content/lectures/images/12/341_zz_guidance.png data-background-size=contain}\n",
      "## {data-background=../content/lectures/images/12/342_result.png data-background-size=contain}\n",
      "## {data-background=../content/lectures/images/12/343_table.png data-background-size=contain}\n",
      "## {data-background=../content/lectures/images/12/350_voronoi_default.png data-background-size=contain}\n",
      "## {data-background=../content/lectures/images/12/351_voronoi_generator.png data-background-size=contain}\n",
      "## {data-background=../content/lectures/images/12/360_voronoi_100.png data-background-size=contain}\n",
      "## {data-background=../content/lectures/images/12/361_voronoi_100.png data-background-size=contain}\n",
      "## {data-background=../content/lectures/images/12/362_voronoi_zoom.png data-background-size=contain}\n",
      "## {data-background=../content/lectures/images/12/400_random_points.png data-background-size=contain}\n",
      "## {data-background=../content/lectures/images/12/410_random_slow.png data-background-size=contain}\n",
      "## {data-background=../content/lectures/images/12/411_random_points.png data-background-size=contain}\n",
      "## {data-background=../content/lectures/images/12/412_points_in_poly.png data-background-size=contain}\n",
      "## {data-background=../content/lectures/images/12/413_results.png data-background-size=contain}\n",
      "## {data-background=../content/lectures/images/12/414_service_pop_estimation.png data-background-size=contain}\n",
      "## {data-background=../content/lectures/images/12/415_largest_two.png data-background-size=contain}\n",
      "## {data-background=../content/lectures/images/12/416_center.png data-background-size=contain}\n"
     ]
    }
   ],
   "source": [
    "lecture = '12'\n",
    "rows = []\n",
    "for image in images:\n",
    "    rows.append(f'## {{data-background=../content/lectures/images/{lecture}/{image} data-background-size=contain}}')\n",
    "    print(rows[-1])"
   ]
  },
  {
   "cell_type": "code",
   "execution_count": null,
   "metadata": {},
   "outputs": [],
   "source": []
  },
  {
   "cell_type": "code",
   "execution_count": null,
   "metadata": {},
   "outputs": [],
   "source": []
  }
 ],
 "metadata": {
  "kernelspec": {
   "display_name": "Python 3",
   "language": "python",
   "name": "python3"
  },
  "language_info": {
   "codemirror_mode": {
    "name": "ipython",
    "version": 3
   },
   "file_extension": ".py",
   "mimetype": "text/x-python",
   "name": "python",
   "nbconvert_exporter": "python",
   "pygments_lexer": "ipython3",
   "version": "3.7.6"
  }
 },
 "nbformat": 4,
 "nbformat_minor": 2
}
