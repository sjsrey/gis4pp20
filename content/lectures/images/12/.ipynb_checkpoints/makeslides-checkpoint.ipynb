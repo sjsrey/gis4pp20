{
 "cells": [
  {
   "cell_type": "code",
   "execution_count": 1,
   "metadata": {},
   "outputs": [],
   "source": [
    "import glob"
   ]
  },
  {
   "cell_type": "code",
   "execution_count": 2,
   "metadata": {},
   "outputs": [],
   "source": [
    "images = glob.glob(\"*.png\")"
   ]
  },
  {
   "cell_type": "code",
   "execution_count": 3,
   "metadata": {},
   "outputs": [
    {
     "data": {
      "text/plain": [
       "['120_anselin.png',\n",
       " '119_anselin.png',\n",
       " '140_digital_exhaust.png',\n",
       " '123_anselin.png',\n",
       " '010_vgi_portal.png',\n",
       " '124_rey.png',\n",
       " '121_anselin.png',\n",
       " '125_rey.png',\n",
       " '130_smart_cities.png',\n",
       " '135_esri.png',\n",
       " '126_rey.png',\n",
       " '100_ebird.png']"
      ]
     },
     "execution_count": 3,
     "metadata": {},
     "output_type": "execute_result"
    }
   ],
   "source": [
    "images"
   ]
  },
  {
   "cell_type": "code",
   "execution_count": 4,
   "metadata": {},
   "outputs": [],
   "source": [
    "images.sort()"
   ]
  },
  {
   "cell_type": "code",
   "execution_count": 5,
   "metadata": {},
   "outputs": [
    {
     "data": {
      "text/plain": [
       "['010_vgi_portal.png',\n",
       " '100_ebird.png',\n",
       " '119_anselin.png',\n",
       " '120_anselin.png',\n",
       " '121_anselin.png',\n",
       " '123_anselin.png',\n",
       " '124_rey.png',\n",
       " '125_rey.png',\n",
       " '126_rey.png',\n",
       " '130_smart_cities.png',\n",
       " '135_esri.png',\n",
       " '140_digital_exhaust.png']"
      ]
     },
     "execution_count": 5,
     "metadata": {},
     "output_type": "execute_result"
    }
   ],
   "source": [
    "images"
   ]
  },
  {
   "cell_type": "code",
   "execution_count": 7,
   "metadata": {},
   "outputs": [
    {
     "name": "stdout",
     "output_type": "stream",
     "text": [
      "## {data-background=../content/lectures/images/12/010_vgi_portal.png data-background-size=contain}\n",
      "## {data-background=../content/lectures/images/12/100_ebird.png data-background-size=contain}\n",
      "## {data-background=../content/lectures/images/12/119_anselin.png data-background-size=contain}\n",
      "## {data-background=../content/lectures/images/12/120_anselin.png data-background-size=contain}\n",
      "## {data-background=../content/lectures/images/12/121_anselin.png data-background-size=contain}\n",
      "## {data-background=../content/lectures/images/12/123_anselin.png data-background-size=contain}\n",
      "## {data-background=../content/lectures/images/12/124_rey.png data-background-size=contain}\n",
      "## {data-background=../content/lectures/images/12/125_rey.png data-background-size=contain}\n",
      "## {data-background=../content/lectures/images/12/126_rey.png data-background-size=contain}\n",
      "## {data-background=../content/lectures/images/12/130_smart_cities.png data-background-size=contain}\n",
      "## {data-background=../content/lectures/images/12/135_esri.png data-background-size=contain}\n",
      "## {data-background=../content/lectures/images/12/140_digital_exhaust.png data-background-size=contain}\n"
     ]
    }
   ],
   "source": [
    "lecture = '12'\n",
    "rows = []\n",
    "for image in images:\n",
    "    rows.append(f'## {{data-background=../content/lectures/images/{lecture}/{image} data-background-size=contain}}')\n",
    "    print(rows[-1])"
   ]
  },
  {
   "cell_type": "code",
   "execution_count": null,
   "metadata": {},
   "outputs": [],
   "source": []
  }
 ],
 "metadata": {
  "kernelspec": {
   "display_name": "Python 3",
   "language": "python",
   "name": "python3"
  },
  "language_info": {
   "codemirror_mode": {
    "name": "ipython",
    "version": 3
   },
   "file_extension": ".py",
   "mimetype": "text/x-python",
   "name": "python",
   "nbconvert_exporter": "python",
   "pygments_lexer": "ipython3",
   "version": "3.7.6"
  }
 },
 "nbformat": 4,
 "nbformat_minor": 2
}
