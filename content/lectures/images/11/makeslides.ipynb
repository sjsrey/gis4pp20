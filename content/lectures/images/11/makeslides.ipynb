{
 "cells": [
  {
   "cell_type": "code",
   "execution_count": 16,
   "metadata": {},
   "outputs": [],
   "source": [
    "import glob"
   ]
  },
  {
   "cell_type": "code",
   "execution_count": 17,
   "metadata": {},
   "outputs": [],
   "source": [
    "images = glob.glob(\"*.png\")"
   ]
  },
  {
   "cell_type": "code",
   "execution_count": 18,
   "metadata": {},
   "outputs": [
    {
     "data": {
      "text/plain": [
       "['403_tracts_new_crs_dialog.png',\n",
       " '200_clipping.png',\n",
       " '320_spatial_joins_table.png',\n",
       " '410_buffer_crs.png',\n",
       " '300_spatial_joins.png',\n",
       " '103_tracts_table.png',\n",
       " '350_union_clipped.png',\n",
       " '410_buffer_crs_fix.png',\n",
       " '105_tracts_info.png',\n",
       " '451_buffer_dissolve_one.png',\n",
       " '240_clip_info.png',\n",
       " '120_dissolve_dialog.png',\n",
       " '000_latimes.png',\n",
       " '465_table_join_result.png',\n",
       " '425_buffer_result.png',\n",
       " '460_table_join_expression.png',\n",
       " '330_spatial_joins_table_all.png',\n",
       " '452_table_join.png',\n",
       " '401_clipped_crs.png',\n",
       " '110_dissolve_menu.png',\n",
       " '402_clinics_crs.png',\n",
       " '426_buffer_count.png',\n",
       " '450_buffer_dissolve.png',\n",
       " '230_clip_results.png',\n",
       " '420_buffer_menu.png',\n",
       " '310_spatial_joins_results.png',\n",
       " '340_spatial_joins_duplicates.png',\n",
       " '400_buffer_projection.png',\n",
       " '466_zoom.png',\n",
       " '210_clip_menu.png',\n",
       " '220_clip_dialog.png',\n",
       " '401_tracts_crs.png',\n",
       " '130_dissolve_results.png',\n",
       " '100_tracts_highway.png']"
      ]
     },
     "execution_count": 18,
     "metadata": {},
     "output_type": "execute_result"
    }
   ],
   "source": [
    "images"
   ]
  },
  {
   "cell_type": "code",
   "execution_count": 19,
   "metadata": {},
   "outputs": [],
   "source": [
    "images.sort()"
   ]
  },
  {
   "cell_type": "code",
   "execution_count": 20,
   "metadata": {},
   "outputs": [
    {
     "data": {
      "text/plain": [
       "['000_latimes.png',\n",
       " '100_tracts_highway.png',\n",
       " '103_tracts_table.png',\n",
       " '105_tracts_info.png',\n",
       " '110_dissolve_menu.png',\n",
       " '120_dissolve_dialog.png',\n",
       " '130_dissolve_results.png',\n",
       " '200_clipping.png',\n",
       " '210_clip_menu.png',\n",
       " '220_clip_dialog.png',\n",
       " '230_clip_results.png',\n",
       " '240_clip_info.png',\n",
       " '300_spatial_joins.png',\n",
       " '310_spatial_joins_results.png',\n",
       " '320_spatial_joins_table.png',\n",
       " '330_spatial_joins_table_all.png',\n",
       " '340_spatial_joins_duplicates.png',\n",
       " '350_union_clipped.png',\n",
       " '400_buffer_projection.png',\n",
       " '401_clipped_crs.png',\n",
       " '401_tracts_crs.png',\n",
       " '402_clinics_crs.png',\n",
       " '403_tracts_new_crs_dialog.png',\n",
       " '410_buffer_crs.png',\n",
       " '410_buffer_crs_fix.png',\n",
       " '420_buffer_menu.png',\n",
       " '425_buffer_result.png',\n",
       " '426_buffer_count.png',\n",
       " '450_buffer_dissolve.png',\n",
       " '451_buffer_dissolve_one.png',\n",
       " '452_table_join.png',\n",
       " '460_table_join_expression.png',\n",
       " '465_table_join_result.png',\n",
       " '466_zoom.png']"
      ]
     },
     "execution_count": 20,
     "metadata": {},
     "output_type": "execute_result"
    }
   ],
   "source": [
    "images"
   ]
  },
  {
   "cell_type": "code",
   "execution_count": 21,
   "metadata": {},
   "outputs": [
    {
     "name": "stdout",
     "output_type": "stream",
     "text": [
      "## {data-background=../content/lectures/images/11/000_latimes.png data-background-size=contain}\n",
      "## {data-background=../content/lectures/images/11/100_tracts_highway.png data-background-size=contain}\n",
      "## {data-background=../content/lectures/images/11/103_tracts_table.png data-background-size=contain}\n",
      "## {data-background=../content/lectures/images/11/105_tracts_info.png data-background-size=contain}\n",
      "## {data-background=../content/lectures/images/11/110_dissolve_menu.png data-background-size=contain}\n",
      "## {data-background=../content/lectures/images/11/120_dissolve_dialog.png data-background-size=contain}\n",
      "## {data-background=../content/lectures/images/11/130_dissolve_results.png data-background-size=contain}\n",
      "## {data-background=../content/lectures/images/11/200_clipping.png data-background-size=contain}\n",
      "## {data-background=../content/lectures/images/11/210_clip_menu.png data-background-size=contain}\n",
      "## {data-background=../content/lectures/images/11/220_clip_dialog.png data-background-size=contain}\n",
      "## {data-background=../content/lectures/images/11/230_clip_results.png data-background-size=contain}\n",
      "## {data-background=../content/lectures/images/11/240_clip_info.png data-background-size=contain}\n",
      "## {data-background=../content/lectures/images/11/300_spatial_joins.png data-background-size=contain}\n",
      "## {data-background=../content/lectures/images/11/310_spatial_joins_results.png data-background-size=contain}\n",
      "## {data-background=../content/lectures/images/11/320_spatial_joins_table.png data-background-size=contain}\n",
      "## {data-background=../content/lectures/images/11/330_spatial_joins_table_all.png data-background-size=contain}\n",
      "## {data-background=../content/lectures/images/11/340_spatial_joins_duplicates.png data-background-size=contain}\n",
      "## {data-background=../content/lectures/images/11/350_union_clipped.png data-background-size=contain}\n",
      "## {data-background=../content/lectures/images/11/400_buffer_projection.png data-background-size=contain}\n",
      "## {data-background=../content/lectures/images/11/401_clipped_crs.png data-background-size=contain}\n",
      "## {data-background=../content/lectures/images/11/401_tracts_crs.png data-background-size=contain}\n",
      "## {data-background=../content/lectures/images/11/402_clinics_crs.png data-background-size=contain}\n",
      "## {data-background=../content/lectures/images/11/403_tracts_new_crs_dialog.png data-background-size=contain}\n",
      "## {data-background=../content/lectures/images/11/410_buffer_crs.png data-background-size=contain}\n",
      "## {data-background=../content/lectures/images/11/410_buffer_crs_fix.png data-background-size=contain}\n",
      "## {data-background=../content/lectures/images/11/420_buffer_menu.png data-background-size=contain}\n",
      "## {data-background=../content/lectures/images/11/425_buffer_result.png data-background-size=contain}\n",
      "## {data-background=../content/lectures/images/11/426_buffer_count.png data-background-size=contain}\n",
      "## {data-background=../content/lectures/images/11/450_buffer_dissolve.png data-background-size=contain}\n",
      "## {data-background=../content/lectures/images/11/451_buffer_dissolve_one.png data-background-size=contain}\n",
      "## {data-background=../content/lectures/images/11/452_table_join.png data-background-size=contain}\n",
      "## {data-background=../content/lectures/images/11/460_table_join_expression.png data-background-size=contain}\n",
      "## {data-background=../content/lectures/images/11/465_table_join_result.png data-background-size=contain}\n",
      "## {data-background=../content/lectures/images/11/466_zoom.png data-background-size=contain}\n"
     ]
    }
   ],
   "source": [
    "lecture = '11'\n",
    "rows = []\n",
    "for image in images:\n",
    "    rows.append(f'## {{data-background=../content/lectures/images/{lecture}/{image} data-background-size=contain}}')\n",
    "    print(rows[-1])"
   ]
  },
  {
   "cell_type": "code",
   "execution_count": 22,
   "metadata": {},
   "outputs": [
    {
     "data": {
      "text/plain": [
       "['## {data-background=../content/lectures/images/11/000_latimes.png data-background-size=contain}',\n",
       " '## {data-background=../content/lectures/images/11/100_tracts_highway.png data-background-size=contain}',\n",
       " '## {data-background=../content/lectures/images/11/103_tracts_table.png data-background-size=contain}',\n",
       " '## {data-background=../content/lectures/images/11/105_tracts_info.png data-background-size=contain}',\n",
       " '## {data-background=../content/lectures/images/11/110_dissolve_menu.png data-background-size=contain}',\n",
       " '## {data-background=../content/lectures/images/11/120_dissolve_dialog.png data-background-size=contain}',\n",
       " '## {data-background=../content/lectures/images/11/130_dissolve_results.png data-background-size=contain}',\n",
       " '## {data-background=../content/lectures/images/11/200_clipping.png data-background-size=contain}',\n",
       " '## {data-background=../content/lectures/images/11/210_clip_menu.png data-background-size=contain}',\n",
       " '## {data-background=../content/lectures/images/11/220_clip_dialog.png data-background-size=contain}',\n",
       " '## {data-background=../content/lectures/images/11/230_clip_results.png data-background-size=contain}',\n",
       " '## {data-background=../content/lectures/images/11/240_clip_info.png data-background-size=contain}',\n",
       " '## {data-background=../content/lectures/images/11/300_spatial_joins.png data-background-size=contain}',\n",
       " '## {data-background=../content/lectures/images/11/310_spatial_joins_results.png data-background-size=contain}',\n",
       " '## {data-background=../content/lectures/images/11/320_spatial_joins_table.png data-background-size=contain}',\n",
       " '## {data-background=../content/lectures/images/11/330_spatial_joins_table_all.png data-background-size=contain}',\n",
       " '## {data-background=../content/lectures/images/11/340_spatial_joins_duplicates.png data-background-size=contain}',\n",
       " '## {data-background=../content/lectures/images/11/350_union_clipped.png data-background-size=contain}',\n",
       " '## {data-background=../content/lectures/images/11/400_buffer_projection.png data-background-size=contain}',\n",
       " '## {data-background=../content/lectures/images/11/401_clipped_crs.png data-background-size=contain}',\n",
       " '## {data-background=../content/lectures/images/11/401_tracts_crs.png data-background-size=contain}',\n",
       " '## {data-background=../content/lectures/images/11/402_clinics_crs.png data-background-size=contain}',\n",
       " '## {data-background=../content/lectures/images/11/403_tracts_new_crs_dialog.png data-background-size=contain}',\n",
       " '## {data-background=../content/lectures/images/11/410_buffer_crs.png data-background-size=contain}',\n",
       " '## {data-background=../content/lectures/images/11/410_buffer_crs_fix.png data-background-size=contain}',\n",
       " '## {data-background=../content/lectures/images/11/420_buffer_menu.png data-background-size=contain}',\n",
       " '## {data-background=../content/lectures/images/11/425_buffer_result.png data-background-size=contain}',\n",
       " '## {data-background=../content/lectures/images/11/426_buffer_count.png data-background-size=contain}',\n",
       " '## {data-background=../content/lectures/images/11/450_buffer_dissolve.png data-background-size=contain}',\n",
       " '## {data-background=../content/lectures/images/11/451_buffer_dissolve_one.png data-background-size=contain}',\n",
       " '## {data-background=../content/lectures/images/11/452_table_join.png data-background-size=contain}',\n",
       " '## {data-background=../content/lectures/images/11/460_table_join_expression.png data-background-size=contain}',\n",
       " '## {data-background=../content/lectures/images/11/465_table_join_result.png data-background-size=contain}',\n",
       " '## {data-background=../content/lectures/images/11/466_zoom.png data-background-size=contain}']"
      ]
     },
     "execution_count": 22,
     "metadata": {},
     "output_type": "execute_result"
    }
   ],
   "source": [
    "rows"
   ]
  },
  {
   "cell_type": "code",
   "execution_count": null,
   "metadata": {},
   "outputs": [],
   "source": []
  }
 ],
 "metadata": {
  "kernelspec": {
   "display_name": "Python 3",
   "language": "python",
   "name": "python3"
  },
  "language_info": {
   "codemirror_mode": {
    "name": "ipython",
    "version": 3
   },
   "file_extension": ".py",
   "mimetype": "text/x-python",
   "name": "python",
   "nbconvert_exporter": "python",
   "pygments_lexer": "ipython3",
   "version": "3.7.3"
  }
 },
 "nbformat": 4,
 "nbformat_minor": 2
}
