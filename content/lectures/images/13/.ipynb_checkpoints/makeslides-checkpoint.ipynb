{
 "cells": [
  {
   "cell_type": "code",
   "execution_count": 1,
   "metadata": {},
   "outputs": [],
   "source": [
    "import glob"
   ]
  },
  {
   "cell_type": "code",
   "execution_count": 2,
   "metadata": {},
   "outputs": [],
   "source": [
    "images = glob.glob(\"*.png\")"
   ]
  },
  {
   "cell_type": "code",
   "execution_count": 3,
   "metadata": {},
   "outputs": [
    {
     "data": {
      "text/plain": [
       "['132_print_output.png',\n",
       " '200_layer_attributes.png',\n",
       " '155_layer_name_change.png',\n",
       " '210_multiple_layers.png',\n",
       " '156_newproject.png',\n",
       " '142_run_script.png',\n",
       " '133_import.png',\n",
       " '130_console.png',\n",
       " '211_commenting.png',\n",
       " '144_save_file.png',\n",
       " '141_enter_editor.png',\n",
       " '154_load_layer.png',\n",
       " '131_print.png',\n",
       " '143_script_run.png',\n",
       " '120_python_menu.png',\n",
       " '152_edit_path.png',\n",
       " '100_layer.png',\n",
       " '140_open_editor.png',\n",
       " '212_bounding_box.png',\n",
       " '151_right_click_path.png',\n",
       " '153_remove_layer.png',\n",
       " '145_save_rerun.png',\n",
       " '150_path.png']"
      ]
     },
     "execution_count": 3,
     "metadata": {},
     "output_type": "execute_result"
    }
   ],
   "source": [
    "images"
   ]
  },
  {
   "cell_type": "code",
   "execution_count": 4,
   "metadata": {},
   "outputs": [],
   "source": [
    "images.sort()"
   ]
  },
  {
   "cell_type": "code",
   "execution_count": 5,
   "metadata": {},
   "outputs": [
    {
     "data": {
      "text/plain": [
       "['100_layer.png',\n",
       " '120_python_menu.png',\n",
       " '130_console.png',\n",
       " '131_print.png',\n",
       " '132_print_output.png',\n",
       " '133_import.png',\n",
       " '140_open_editor.png',\n",
       " '141_enter_editor.png',\n",
       " '142_run_script.png',\n",
       " '143_script_run.png',\n",
       " '144_save_file.png',\n",
       " '145_save_rerun.png',\n",
       " '150_path.png',\n",
       " '151_right_click_path.png',\n",
       " '152_edit_path.png',\n",
       " '153_remove_layer.png',\n",
       " '154_load_layer.png',\n",
       " '155_layer_name_change.png',\n",
       " '156_newproject.png',\n",
       " '200_layer_attributes.png',\n",
       " '210_multiple_layers.png',\n",
       " '211_commenting.png',\n",
       " '212_bounding_box.png']"
      ]
     },
     "execution_count": 5,
     "metadata": {},
     "output_type": "execute_result"
    }
   ],
   "source": [
    "images"
   ]
  },
  {
   "cell_type": "code",
   "execution_count": 6,
   "metadata": {},
   "outputs": [
    {
     "name": "stdout",
     "output_type": "stream",
     "text": [
      "## {data-background=../content/lectures/images/12/100_layer.png data-background-size=contain}\n",
      "## {data-background=../content/lectures/images/12/120_python_menu.png data-background-size=contain}\n",
      "## {data-background=../content/lectures/images/12/130_console.png data-background-size=contain}\n",
      "## {data-background=../content/lectures/images/12/131_print.png data-background-size=contain}\n",
      "## {data-background=../content/lectures/images/12/132_print_output.png data-background-size=contain}\n",
      "## {data-background=../content/lectures/images/12/133_import.png data-background-size=contain}\n",
      "## {data-background=../content/lectures/images/12/140_open_editor.png data-background-size=contain}\n",
      "## {data-background=../content/lectures/images/12/141_enter_editor.png data-background-size=contain}\n",
      "## {data-background=../content/lectures/images/12/142_run_script.png data-background-size=contain}\n",
      "## {data-background=../content/lectures/images/12/143_script_run.png data-background-size=contain}\n",
      "## {data-background=../content/lectures/images/12/144_save_file.png data-background-size=contain}\n",
      "## {data-background=../content/lectures/images/12/145_save_rerun.png data-background-size=contain}\n",
      "## {data-background=../content/lectures/images/12/150_path.png data-background-size=contain}\n",
      "## {data-background=../content/lectures/images/12/151_right_click_path.png data-background-size=contain}\n",
      "## {data-background=../content/lectures/images/12/152_edit_path.png data-background-size=contain}\n",
      "## {data-background=../content/lectures/images/12/153_remove_layer.png data-background-size=contain}\n",
      "## {data-background=../content/lectures/images/12/154_load_layer.png data-background-size=contain}\n",
      "## {data-background=../content/lectures/images/12/155_layer_name_change.png data-background-size=contain}\n",
      "## {data-background=../content/lectures/images/12/156_newproject.png data-background-size=contain}\n",
      "## {data-background=../content/lectures/images/12/200_layer_attributes.png data-background-size=contain}\n",
      "## {data-background=../content/lectures/images/12/210_multiple_layers.png data-background-size=contain}\n",
      "## {data-background=../content/lectures/images/12/211_commenting.png data-background-size=contain}\n",
      "## {data-background=../content/lectures/images/12/212_bounding_box.png data-background-size=contain}\n"
     ]
    }
   ],
   "source": [
    "lecture = '12'\n",
    "rows = []\n",
    "for image in images:\n",
    "    rows.append(f'## {{data-background=../content/lectures/images/{lecture}/{image} data-background-size=contain}}')\n",
    "    print(rows[-1])"
   ]
  },
  {
   "cell_type": "code",
   "execution_count": null,
   "metadata": {},
   "outputs": [],
   "source": []
  },
  {
   "cell_type": "code",
   "execution_count": null,
   "metadata": {},
   "outputs": [],
   "source": []
  }
 ],
 "metadata": {
  "kernelspec": {
   "display_name": "Python 3",
   "language": "python",
   "name": "python3"
  },
  "language_info": {
   "codemirror_mode": {
    "name": "ipython",
    "version": 3
   },
   "file_extension": ".py",
   "mimetype": "text/x-python",
   "name": "python",
   "nbconvert_exporter": "python",
   "pygments_lexer": "ipython3",
   "version": "3.7.6"
  }
 },
 "nbformat": 4,
 "nbformat_minor": 2
}
