{
 "cells": [
  {
   "cell_type": "code",
   "execution_count": 38,
   "metadata": {},
   "outputs": [],
   "source": [
    "import glob"
   ]
  },
  {
   "cell_type": "code",
   "execution_count": 39,
   "metadata": {},
   "outputs": [],
   "source": [
    "images = glob.glob(\"*.png\")"
   ]
  },
  {
   "cell_type": "code",
   "execution_count": 40,
   "metadata": {},
   "outputs": [
    {
     "data": {
      "text/plain": [
       "['132_print_output.png',\n",
       " '200_layer_attributes.png',\n",
       " '155_layer_name_change.png',\n",
       " '210_multiple_layers.png',\n",
       " '330_show_attribute_table.png',\n",
       " '156_newproject.png',\n",
       " '310_selected_feature_count.png',\n",
       " '350_print_attributes.png',\n",
       " '142_run_script.png',\n",
       " '375_pop_dict.png',\n",
       " '410_new_layer.png',\n",
       " '377_new_field.png',\n",
       " '133_import.png',\n",
       " '130_console.png',\n",
       " '340_print_fields.png',\n",
       " '211_commenting.png',\n",
       " '370_counties.png',\n",
       " '400_copy_layer.png',\n",
       " '144_save_file.png',\n",
       " '141_enter_editor.png',\n",
       " '382_two_fields_result.png',\n",
       " '154_load_layer.png',\n",
       " '131_print.png',\n",
       " '300_feature_count.png',\n",
       " '360_totpop_037.png',\n",
       " '143_script_run.png',\n",
       " '120_python_menu.png',\n",
       " '152_edit_path.png',\n",
       " '420_select_min.png',\n",
       " '100_layer.png',\n",
       " '405_original_layer.png',\n",
       " '376_pop_result.png',\n",
       " '320_looping_subset.png',\n",
       " '140_open_editor.png',\n",
       " '381_two_fields.png',\n",
       " '212_bounding_box.png',\n",
       " '151_right_click_path.png',\n",
       " '153_remove_layer.png',\n",
       " '145_save_rerun.png',\n",
       " '150_path.png',\n",
       " '380_pct_hisp_added.png']"
      ]
     },
     "execution_count": 40,
     "metadata": {},
     "output_type": "execute_result"
    }
   ],
   "source": [
    "images"
   ]
  },
  {
   "cell_type": "code",
   "execution_count": 41,
   "metadata": {},
   "outputs": [],
   "source": [
    "images.sort()"
   ]
  },
  {
   "cell_type": "code",
   "execution_count": 42,
   "metadata": {},
   "outputs": [
    {
     "data": {
      "text/plain": [
       "['100_layer.png',\n",
       " '120_python_menu.png',\n",
       " '130_console.png',\n",
       " '131_print.png',\n",
       " '132_print_output.png',\n",
       " '133_import.png',\n",
       " '140_open_editor.png',\n",
       " '141_enter_editor.png',\n",
       " '142_run_script.png',\n",
       " '143_script_run.png',\n",
       " '144_save_file.png',\n",
       " '145_save_rerun.png',\n",
       " '150_path.png',\n",
       " '151_right_click_path.png',\n",
       " '152_edit_path.png',\n",
       " '153_remove_layer.png',\n",
       " '154_load_layer.png',\n",
       " '155_layer_name_change.png',\n",
       " '156_newproject.png',\n",
       " '200_layer_attributes.png',\n",
       " '210_multiple_layers.png',\n",
       " '211_commenting.png',\n",
       " '212_bounding_box.png',\n",
       " '300_feature_count.png',\n",
       " '310_selected_feature_count.png',\n",
       " '320_looping_subset.png',\n",
       " '330_show_attribute_table.png',\n",
       " '340_print_fields.png',\n",
       " '350_print_attributes.png',\n",
       " '360_totpop_037.png',\n",
       " '370_counties.png',\n",
       " '375_pop_dict.png',\n",
       " '376_pop_result.png',\n",
       " '377_new_field.png',\n",
       " '380_pct_hisp_added.png',\n",
       " '381_two_fields.png',\n",
       " '382_two_fields_result.png',\n",
       " '400_copy_layer.png',\n",
       " '405_original_layer.png',\n",
       " '410_new_layer.png',\n",
       " '420_select_min.png']"
      ]
     },
     "execution_count": 42,
     "metadata": {},
     "output_type": "execute_result"
    }
   ],
   "source": [
    "images"
   ]
  },
  {
   "cell_type": "code",
   "execution_count": 43,
   "metadata": {},
   "outputs": [
    {
     "name": "stdout",
     "output_type": "stream",
     "text": [
      "## {data-background=../content/lectures/images/13/100_layer.png data-background-size=contain}\n",
      "## {data-background=../content/lectures/images/13/120_python_menu.png data-background-size=contain}\n",
      "## {data-background=../content/lectures/images/13/130_console.png data-background-size=contain}\n",
      "## {data-background=../content/lectures/images/13/131_print.png data-background-size=contain}\n",
      "## {data-background=../content/lectures/images/13/132_print_output.png data-background-size=contain}\n",
      "## {data-background=../content/lectures/images/13/133_import.png data-background-size=contain}\n",
      "## {data-background=../content/lectures/images/13/140_open_editor.png data-background-size=contain}\n",
      "## {data-background=../content/lectures/images/13/141_enter_editor.png data-background-size=contain}\n",
      "## {data-background=../content/lectures/images/13/142_run_script.png data-background-size=contain}\n",
      "## {data-background=../content/lectures/images/13/143_script_run.png data-background-size=contain}\n",
      "## {data-background=../content/lectures/images/13/144_save_file.png data-background-size=contain}\n",
      "## {data-background=../content/lectures/images/13/145_save_rerun.png data-background-size=contain}\n",
      "## {data-background=../content/lectures/images/13/150_path.png data-background-size=contain}\n",
      "## {data-background=../content/lectures/images/13/151_right_click_path.png data-background-size=contain}\n",
      "## {data-background=../content/lectures/images/13/152_edit_path.png data-background-size=contain}\n",
      "## {data-background=../content/lectures/images/13/153_remove_layer.png data-background-size=contain}\n",
      "## {data-background=../content/lectures/images/13/154_load_layer.png data-background-size=contain}\n",
      "## {data-background=../content/lectures/images/13/155_layer_name_change.png data-background-size=contain}\n",
      "## {data-background=../content/lectures/images/13/156_newproject.png data-background-size=contain}\n",
      "## {data-background=../content/lectures/images/13/200_layer_attributes.png data-background-size=contain}\n",
      "## {data-background=../content/lectures/images/13/210_multiple_layers.png data-background-size=contain}\n",
      "## {data-background=../content/lectures/images/13/211_commenting.png data-background-size=contain}\n",
      "## {data-background=../content/lectures/images/13/212_bounding_box.png data-background-size=contain}\n",
      "## {data-background=../content/lectures/images/13/300_feature_count.png data-background-size=contain}\n",
      "## {data-background=../content/lectures/images/13/310_selected_feature_count.png data-background-size=contain}\n",
      "## {data-background=../content/lectures/images/13/320_looping_subset.png data-background-size=contain}\n",
      "## {data-background=../content/lectures/images/13/330_show_attribute_table.png data-background-size=contain}\n",
      "## {data-background=../content/lectures/images/13/340_print_fields.png data-background-size=contain}\n",
      "## {data-background=../content/lectures/images/13/350_print_attributes.png data-background-size=contain}\n",
      "## {data-background=../content/lectures/images/13/360_totpop_037.png data-background-size=contain}\n",
      "## {data-background=../content/lectures/images/13/370_counties.png data-background-size=contain}\n",
      "## {data-background=../content/lectures/images/13/375_pop_dict.png data-background-size=contain}\n",
      "## {data-background=../content/lectures/images/13/376_pop_result.png data-background-size=contain}\n",
      "## {data-background=../content/lectures/images/13/377_new_field.png data-background-size=contain}\n",
      "## {data-background=../content/lectures/images/13/380_pct_hisp_added.png data-background-size=contain}\n",
      "## {data-background=../content/lectures/images/13/381_two_fields.png data-background-size=contain}\n",
      "## {data-background=../content/lectures/images/13/382_two_fields_result.png data-background-size=contain}\n",
      "## {data-background=../content/lectures/images/13/400_copy_layer.png data-background-size=contain}\n",
      "## {data-background=../content/lectures/images/13/405_original_layer.png data-background-size=contain}\n",
      "## {data-background=../content/lectures/images/13/410_new_layer.png data-background-size=contain}\n",
      "## {data-background=../content/lectures/images/13/420_select_min.png data-background-size=contain}\n"
     ]
    }
   ],
   "source": [
    "lecture = '13'\n",
    "rows = []\n",
    "for image in images:\n",
    "    rows.append(f'## {{data-background=../content/lectures/images/{lecture}/{image} data-background-size=contain}}')\n",
    "    print(rows[-1])"
   ]
  },
  {
   "cell_type": "code",
   "execution_count": null,
   "metadata": {},
   "outputs": [],
   "source": []
  },
  {
   "cell_type": "code",
   "execution_count": null,
   "metadata": {},
   "outputs": [],
   "source": []
  }
 ],
 "metadata": {
  "kernelspec": {
   "display_name": "Python 3",
   "language": "python",
   "name": "python3"
  },
  "language_info": {
   "codemirror_mode": {
    "name": "ipython",
    "version": 3
   },
   "file_extension": ".py",
   "mimetype": "text/x-python",
   "name": "python",
   "nbconvert_exporter": "python",
   "pygments_lexer": "ipython3",
   "version": "3.7.6"
  }
 },
 "nbformat": 4,
 "nbformat_minor": 2
}
